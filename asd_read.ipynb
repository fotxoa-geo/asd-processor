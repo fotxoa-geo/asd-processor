{
 "cells": [
  {
   "cell_type": "code",
   "execution_count": null,
   "id": "88dc8708-44d7-4b4b-85a5-46af3ed38c4a",
   "metadata": {},
   "outputs": [],
   "source": [
    "%load_ext autoreload\n",
    "%autoreload 2\n",
    "\n",
    "import struct\n",
    "import datetime\n",
    "import numpy as np\n",
    "import os\n",
    "import sys\n",
    "import glob\n",
    "import fnmatch\n",
    "\n",
    "#sys.path.append('/Users/reckert/Documents/Develop/asdreader/')\n",
    "import asdreader\n",
    "\n",
    "%matplotlib widget\n",
    "import matplotlib.pyplot as plt"
   ]
  },
  {
   "cell_type": "markdown",
   "id": "9bc5b595-70fa-42ba-bb7b-951ac432a94d",
   "metadata": {},
   "source": [
    "### Basic read-in, reference ratio worflow"
   ]
  },
  {
   "cell_type": "code",
   "execution_count": null,
   "id": "ae590a0f-0411-48f0-855e-871e826aa2ef",
   "metadata": {},
   "outputs": [],
   "source": [
    "base_dir = '/Users/reckert/Documents/Data/SHIFT_2022_Field/'\n",
    "data_dir = base_dir + 'reginatest/'\n",
    "file_tag = 'EPFL_VA_TC1'\n",
    "filenameL = sorted([f for f in os.listdir(data_dir) if fnmatch.fnmatch(f, file_tag + '*.asd')])"
   ]
  },
  {
   "cell_type": "code",
   "execution_count": null,
   "id": "9a49dcab-785c-42fb-b08e-b3415574e3be",
   "metadata": {},
   "outputs": [],
   "source": [
    "# Load in all asd_data\n",
    "n_file = len(filenameL)\n",
    "\n",
    "print('Reading files, beginning with {}...'.format(data_dir + filenameL[0]))\n",
    "asd_data = asdreader.reader(data_dir + filenameL[0])\n",
    "\n",
    "n_channels = asd_data.wavelengths.shape[0]\n",
    "spectra_mat = np.zeros((n_file,n_channels))\n",
    "for ii in range(len(filenameL)):\n",
    "    spectra_mat[ii,] = asdreader.reader(data_dir + filenameL[ii],verbose=False).spec"
   ]
  },
  {
   "cell_type": "code",
   "execution_count": null,
   "id": "fe19f40d-654f-4e52-830f-4d044bbfd4ed",
   "metadata": {},
   "outputs": [],
   "source": [
    "# View all measured spectra\n",
    "plt.figure()\n",
    "plt.imshow(spectra_mat,aspect='auto')\n",
    "plt.colorbar()"
   ]
  },
  {
   "cell_type": "code",
   "execution_count": null,
   "id": "0e0c5200-56a4-4b53-b87c-e32f9486dd8a",
   "metadata": {},
   "outputs": [],
   "source": [
    "# Plot reference spectrum\n",
    "known_ref_idx = 20\n",
    "known_ref = spectra_mat[known_ref_idx,]\n",
    "\n",
    "plt.figure()\n",
    "plt.plot(asd_data.wavelengths,known_ref)"
   ]
  },
  {
   "cell_type": "code",
   "execution_count": null,
   "id": "f6d7ccdf-e319-474a-a28d-bf9a3cdf4cc8",
   "metadata": {},
   "outputs": [],
   "source": [
    "def cos_sim_to_ref(x_mat,y_ref):\n",
    "    return np.dot(x_mat,y_ref)/(np.sqrt(np.sum(x_mat**2,1))*np.sqrt(np.sum(y_ref**2)))"
   ]
  },
  {
   "cell_type": "code",
   "execution_count": null,
   "id": "5141cc56-4c4d-47ea-82cb-3ae3e70028f5",
   "metadata": {},
   "outputs": [],
   "source": [
    "#Identify reference spectra\n",
    "# *** Could identify in another way, but here I am doing the simple thing of feeding in a known index\n",
    "known_ref_idx = 20\n",
    "known_ref = spectra_mat[known_ref_idx,]\n",
    "cos_sim_vec = cos_sim_to_ref(spectra_mat,known_ref)\n",
    "\n",
    "spectra_index = np.arange(spectra_mat.shape[0]) #*Could also load in datetime here from .asd files\n",
    "\n",
    "ref_threshold = 0.999\n",
    "ref_idx = cos_sim_vec>=ref_threshold\n",
    "meas_idx = cos_sim_vec<ref_threshold"
   ]
  },
  {
   "cell_type": "code",
   "execution_count": null,
   "id": "71fafd48-79e9-463e-b7da-08bea1557d43",
   "metadata": {},
   "outputs": [],
   "source": [
    "#Find where reference spectra begin and end\n",
    "ref_change = np.hstack([0,np.diff(ref_idx.astype(int))])\n",
    "ref_begin_bnd = spectra_index[ref_change>0]\n",
    "ref_end_bnd = spectra_index[ref_change<0]\n",
    "\n",
    "#Case where we start with reference spectra\n",
    "ref_begin_bnd = np.hstack([0, ref_begin_bnd]) if ref_begin_bnd[0]>ref_end_bnd[0] else ref_begin_bnd\n",
    "#Case where we end with reference spectra\n",
    "ref_end_bnd = np.hstack([ref_end_bnd, spectra_time[-1]]) if ref_begin_bnd[-1]>ref_end_bnd[-1] else ref_end_bnd\n",
    "\n",
    "#*** Size of the begin and end bounds should be the same, but might want to check / deal with if they are not"
   ]
  },
  {
   "cell_type": "code",
   "execution_count": null,
   "id": "e3b009c4-71dd-4308-bbd9-9e9dab85f426",
   "metadata": {},
   "outputs": [],
   "source": [
    "#Get average and standard deviation for reference groups\n",
    "ref_mean = np.zeros((len(ref_begin_bnd),spectra_mat.shape[1]))\n",
    "ref_std  = ref_mean.copy()\n",
    "\n",
    "ref_groups = []\n",
    "for ii in range(len(ref_begin_bnd)):\n",
    "    ref_groups.append(spectra_mat[ref_begin_bnd[ii]:ref_end_bnd[ii],:])\n",
    "    ref_mean[ii,:] = np.mean(spectra_mat[ref_begin_bnd[ii]:ref_end_bnd[ii],:],axis=0)\n",
    "    ref_std[ii,:] = np.std(spectra_mat[ref_begin_bnd[ii]:ref_end_bnd[ii],:],axis=0)\n"
   ]
  },
  {
   "cell_type": "code",
   "execution_count": null,
   "id": "c059078a-45e6-4659-bec1-48c674801de0",
   "metadata": {},
   "outputs": [],
   "source": [
    "plt.figure(figsize=(8,4))\n",
    "plt.subplot(1,2,1)\n",
    "plt.plot(asd_data.wavelengths,np.transpose(ref_mean))\n",
    "plt.title('Mean reference')\n",
    "plt.subplot(1,2,2)\n",
    "plt.plot(asd_data.wavelengths,np.transpose(ref_std))\n",
    "plt.title('Standard deviation of reference')"
   ]
  },
  {
   "cell_type": "code",
   "execution_count": null,
   "id": "e86b7342-ecf9-4963-93a6-58e77cc73fd2",
   "metadata": {},
   "outputs": [],
   "source": [
    "# *** Need to add in a way to declare outliers, especially on the reference groups\n",
    "# *** Then update the ref_groups\n",
    "# For now, setting a limit on standard deviation to do that\n",
    "ref_good_idx = np.all(ref_std<1000,axis=1) \n",
    "ref_good_bnd = np.vstack((ref_begin_bnd[ref_good_idx],ref_end_bnd[ref_good_idx]))\n",
    "ref_good_index = np.arange(len(ref_begin_bnd))[ref_good_idx] # Index into mean, std, and group arrays\n"
   ]
  },
  {
   "cell_type": "code",
   "execution_count": null,
   "id": "d9956147-c97a-4519-a784-c5b2ca1663ea",
   "metadata": {},
   "outputs": [],
   "source": [
    "# *** Could do a much fancier interpolation scheme between the different reference groups\n",
    "# For now, just identify which is closest and use that\n",
    "ref_good_bnd_flat = ref_good_bnd.flatten()\n",
    "ref_good_index_flat = np.vstack((ref_good_index,ref_good_index)).flatten()\n",
    "\n",
    "#Find the closest reference group for each measurement\n",
    "meas_ref_index = ref_good_index_flat[np.argmin(np.abs(np.expand_dims(spectra_index[meas_idx],axis=1) - np.expand_dims(ref_good_bnd_flat,axis=0)),axis=1)]\n",
    "#Take the ratio\n",
    "ratio_meas_ref = spectra_mat[meas_idx,:]/ref_mean[meas_ref_index,:]"
   ]
  },
  {
   "cell_type": "code",
   "execution_count": null,
   "id": "1bc0f5a7-f4f1-4bca-8e92-21305edfef70",
   "metadata": {},
   "outputs": [],
   "source": [
    "plt.figure()\n",
    "plt.plot(asd_data.wavelengths,np.transpose(ratio_meas_ref))\n",
    "plt.title('Ratio of target spectra to reference')\n",
    "plt.ylabel('Reflectance')\n",
    "plt.xlabel('Wavelength (nm)')"
   ]
  },
  {
   "cell_type": "code",
   "execution_count": null,
   "id": "aecf766d-f3ef-4b41-9954-0af2229edd85",
   "metadata": {},
   "outputs": [],
   "source": [
    "plt.figure(figsize=(8,4))\n",
    "plt.subplot(1,2,1)\n",
    "plt.plot(asd_data.wavelengths,np.transpose(spectra_mat[meas_idx,:]))\n",
    "plt.title('Raw target spectra')\n",
    "plt.subplot(1,2,2)\n",
    "plt.plot(asd_data.wavelengths,np.transpose(ref_mean[meas_ref_index,:]))\n",
    "plt.title('Mean reference spectra')"
   ]
  },
  {
   "cell_type": "code",
   "execution_count": null,
   "id": "34bd6189-b420-49f0-b856-62c7c9c7cb9f",
   "metadata": {},
   "outputs": [],
   "source": [
    "# *** Also need to be able to reject radiance outliers"
   ]
  },
  {
   "cell_type": "markdown",
   "id": "a9ecf7ee-d60c-4063-a852-45ff2757b064",
   "metadata": {},
   "source": [
    "### Reading in GPS data"
   ]
  },
  {
   "cell_type": "code",
   "execution_count": null,
   "id": "fd3dc617-6d15-46d3-96c6-fada83ec4fd9",
   "metadata": {},
   "outputs": [],
   "source": [
    "# **** GPS Data unpack needs work\n",
    "# * Here is a place to test that out\n",
    "header_format = ''\n",
    "struct.unpack(header_format,asd_data.md.gps_data)"
   ]
  },
  {
   "cell_type": "markdown",
   "id": "21902a81-ce2d-45e6-b6db-e1874bcce220",
   "metadata": {},
   "source": [
    "### Other verification plots"
   ]
  },
  {
   "cell_type": "code",
   "execution_count": null,
   "id": "0f143b2e-1e52-43b6-ab5a-605caf9d1c5b",
   "metadata": {},
   "outputs": [],
   "source": [
    "#Verify the reference threshold is right\n",
    "plt.figure()\n",
    "plt.plot(cos_sim_vec)\n",
    "plt.plot(ref_idx)"
   ]
  },
  {
   "cell_type": "code",
   "execution_count": null,
   "id": "663fee0a-4b6a-49b6-b0b6-5223ecc0d9be",
   "metadata": {},
   "outputs": [],
   "source": [
    "from sklearn.metrics.pairwise import cosine_similarity"
   ]
  },
  {
   "cell_type": "code",
   "execution_count": null,
   "id": "cefa7c77-5fff-48f6-8144-f46b4c73f0f7",
   "metadata": {},
   "outputs": [],
   "source": [
    "#Verify we are doing the cosine similarity calculation (i.e. normalized dot product) correctly\n",
    "cos_sim_0 = cos_sim_to_ref(spectra_mat,known_ref)\n",
    "known_ref_mat = np.tile(np.expand_dims(known_ref,axis=0),(spectra_mat.shape[0],1))\n",
    "cos_sim_1 = cosine_similarity(spectra_mat,np.tile(np.expand_dims(known_ref,axis=0),(spectra_mat.shape[0],1)))[:,0]\n",
    "\n",
    "plt.figure()\n",
    "plt.plot(cos_sim_0)\n",
    "plt.plot(cos_sim_1)"
   ]
  }
 ],
 "metadata": {
  "kernelspec": {
   "display_name": "Python 3 (ipykernel)",
   "language": "python",
   "name": "python3"
  },
  "language_info": {
   "codemirror_mode": {
    "name": "ipython",
    "version": 3
   },
   "file_extension": ".py",
   "mimetype": "text/x-python",
   "name": "python",
   "nbconvert_exporter": "python",
   "pygments_lexer": "ipython3",
   "version": "3.8.12"
  }
 },
 "nbformat": 4,
 "nbformat_minor": 5
}
